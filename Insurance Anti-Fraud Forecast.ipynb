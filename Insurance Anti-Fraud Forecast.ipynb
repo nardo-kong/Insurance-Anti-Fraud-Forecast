{
 "cells": [
  {
   "cell_type": "markdown",
   "id": "187f1528",
   "metadata": {},
   "source": [
    "## 准备工作"
   ]
  },
  {
   "cell_type": "markdown",
   "id": "da01c3bd",
   "metadata": {},
   "source": [
    "### Import所需的库"
   ]
  },
  {
   "cell_type": "code",
   "execution_count": null,
   "id": "cfaae1b0",
   "metadata": {},
   "outputs": [],
   "source": [
    "import pandas as pd\n",
    "import os\n",
    "import gc\n",
    "import lightgbm as lgb\n",
    "import xgboost as xgb\n",
    "from catboost import CatBoostRegressor\n",
    "from sklearn.linear_model import SGDRegressor, LinearRegression, Ridge\n",
    "from sklearn.preprocessing import MinMaxScaler\n",
    "import math\n",
    "import numpy as np\n",
    "from tqdm import tqdm\n",
    "from sklearn.model_selection import StratifiedKFold, KFold\n",
    "from sklearn.metrics import accuracy_score, f1_score, roc_auc_score, log_loss\n",
    "import matplotlib.pyplot as plt\n",
    "import time\n",
    "import warnings\n",
    "warnings.filterwarnings('ignore')"
   ]
  },
  {
   "cell_type": "markdown",
   "id": "6d9d5589",
   "metadata": {},
   "source": [
    "### 读取文件"
   ]
  },
  {
   "cell_type": "code",
   "execution_count": 175,
   "id": "950ba3d2",
   "metadata": {},
   "outputs": [],
   "source": [
    "train = pd.read_csv('C:/Users\\86136\\OneDrive - stu2019.jnu.edu.cn/mechrevo_of_nardo_86account/Desktop/tianchi_2/train.csv')\n",
    "testA = pd.read_csv('C:/Users\\86136\\OneDrive - stu2019.jnu.edu.cn/mechrevo_of_nardo_86account/Desktop/tianchi_2/test.csv')"
   ]
  },
  {
   "cell_type": "code",
   "execution_count": 176,
   "id": "b0d80c03",
   "metadata": {},
   "outputs": [],
   "source": [
    "data = pd.concat([train, testA], axis=0, ignore_index=True)"
   ]
  },
  {
   "cell_type": "markdown",
   "id": "c67def4e",
   "metadata": {},
   "source": [
    "### 定义基础模型，方便后续调用"
   ]
  },
  {
   "cell_type": "code",
   "execution_count": 177,
   "id": "86b29837",
   "metadata": {},
   "outputs": [],
   "source": [
    "def cv_model(clf, train_x, train_y, test_x, clf_name):\n",
    "    folds = 6\n",
    "    seed = 2020\n",
    "    kf = KFold(n_splits=folds, shuffle=True, random_state=seed)\n",
    "\n",
    "    train = np.zeros(train_x.shape[0])\n",
    "    test = np.zeros(test_x.shape[0])\n",
    "\n",
    "    cv_scores = []\n",
    "\n",
    "    for i, (train_index, valid_index) in enumerate(kf.split(train_x, train_y)):\n",
    "        print('************************************ {} ************************************'.format(str(i+1)))\n",
    "        trn_x, trn_y, val_x, val_y = train_x.iloc[train_index], train_y[train_index], train_x.iloc[valid_index], train_y[valid_index]\n",
    "\n",
    "        if clf_name == \"lgb\":\n",
    "            train_matrix = clf.Dataset(trn_x, label=trn_y)\n",
    "            valid_matrix = clf.Dataset(val_x, label=val_y)\n",
    "\n",
    "            params = {\n",
    "                'boosting_type': 'gbdt',\n",
    "                'objective': 'binary',\n",
    "                'metric': 'auc',\n",
    "                'min_child_weight': 0.001,\n",
    "                'min_child_samples': 19,\n",
    "                'num_leaves': 10,\n",
    "                'max_depth': 3,\n",
    "                'lambda_l2': 10,\n",
    "                'feature_fraction': 0.95,\n",
    "                'bagging_fraction': 0.85,\n",
    "                'bagging_freq': 4,\n",
    "                'learning_rate': 0.1,\n",
    "                'seed': 2020,\n",
    "                'nthread': 28,\n",
    "                'n_jobs':24,\n",
    "                'silent': True,\n",
    "                'verbose': -1,\n",
    "            }\n",
    "\n",
    "            model = clf.train(params, train_matrix, 50000, valid_sets=[train_matrix, valid_matrix], verbose_eval=200,early_stopping_rounds=200)\n",
    "            val_pred = model.predict(val_x, num_iteration=model.best_iteration)\n",
    "            test_pred = model.predict(test_x, num_iteration=model.best_iteration)\n",
    "            \n",
    "            # print(list(sorted(zip(features, model.feature_importance(\"gain\")), key=lambda x: x[1], reverse=True))[:20])\n",
    "                \n",
    "        if clf_name == \"xgb\":\n",
    "            train_matrix = clf.DMatrix(trn_x , label=trn_y)\n",
    "            valid_matrix = clf.DMatrix(val_x , label=val_y)\n",
    "            test_matrix = clf.DMatrix(test_x)\n",
    "            \n",
    "            params = {'booster': 'gbtree',\n",
    "                      'objective': 'binary:logistic',\n",
    "                      'eval_metric': 'auc',\n",
    "                      'gamma': 1,\n",
    "                      'min_child_samples': 15,\n",
    "                      'min_child_weight': 0.01,\n",
    "                      'max_depth': 7,\n",
    "                      'num_leaves': 15,\n",
    "                      'lambda': 10,\n",
    "                      'subsample': 0.7,\n",
    "                      'colsample_bytree': 0.7,\n",
    "                      'colsample_bylevel': 0.7,\n",
    "                      'eta': 0.04,\n",
    "                      'tree_method': 'exact',\n",
    "                      'seed': 2020,\n",
    "                      'nthread': 36,\n",
    "                      \"silent\": True,\n",
    "                      }\n",
    "            \n",
    "            watchlist = [(train_matrix, 'train'),(valid_matrix, 'eval')]\n",
    "            \n",
    "            model = clf.train(params, train_matrix, num_boost_round=50000, evals=watchlist, verbose_eval=200, early_stopping_rounds=200)\n",
    "            val_pred  = model.predict(valid_matrix, ntree_limit=model.best_ntree_limit)\n",
    "            test_pred = model.predict(test_matrix , ntree_limit=model.best_ntree_limit)\n",
    "                 \n",
    "        if clf_name == \"cat\":\n",
    "            params = {'learning_rate': 0.05, 'depth': 5, 'l2_leaf_reg': 10, 'bootstrap_type': 'Bernoulli',\n",
    "                      'od_type': 'Iter', 'od_wait': 50, 'random_seed': 11, 'allow_writing_files': False}\n",
    "            \n",
    "            model = clf(iterations=20000, **params)\n",
    "            model.fit(trn_x, trn_y, eval_set=(val_x, val_y),\n",
    "                      cat_features=[], use_best_model=True, verbose=500)\n",
    "            \n",
    "            val_pred  = model.predict(val_x)\n",
    "            test_pred = model.predict(test_x)\n",
    "            \n",
    "        train[valid_index] = val_pred\n",
    "        test = test_pred / kf.n_splits\n",
    "        cv_scores.append(roc_auc_score(val_y, val_pred))\n",
    "        \n",
    "        print(cv_scores)\n",
    "       \n",
    "    print(\"%s_scotrainre_list:\" % clf_name, cv_scores)\n",
    "    print(\"%s_score_mean:\" % clf_name, np.mean(cv_scores))\n",
    "    print(\"%s_score_std:\" % clf_name, np.std(cv_scores))\n",
    "    return train, test"
   ]
  },
  {
   "cell_type": "code",
   "execution_count": 178,
   "id": "5bbac333",
   "metadata": {},
   "outputs": [],
   "source": [
    "def lgb_model(x_train, y_train, x_test):\n",
    "    lgb_train, lgb_test = cv_model(lgb, x_train, y_train, x_test, \"lgb\")\n",
    "    return lgb_train, lgb_test\n",
    "\n",
    "def xgb_model(x_train, y_train, x_test):\n",
    "    xgb_train, xgb_test = cv_model(xgb, x_train, y_train, x_test, \"xgb\")\n",
    "    return xgb_train, xgb_test\n",
    "\n",
    "def cat_model(x_train, y_train, x_test):\n",
    "    cat_train, cat_test = cv_model(CatBoostRegressor, x_train, y_train, x_test, \"cat\") \n",
    "    return cat_train, cat_test"
   ]
  },
  {
   "cell_type": "markdown",
   "id": "ccbc241b",
   "metadata": {},
   "source": [
    "## 数据清洗"
   ]
  },
  {
   "cell_type": "markdown",
   "id": "bdfd0142",
   "metadata": {},
   "source": [
    "### 观察category数据的情况"
   ]
  },
  {
   "cell_type": "code",
   "execution_count": 179,
   "id": "f74d4ee3",
   "metadata": {
    "scrolled": true
   },
   "outputs": [
    {
     "name": "stdout",
     "output_type": "stream",
     "text": [
      "policy_state 类型数： 3\n",
      "insured_sex 类型数： 2\n",
      "insured_education_level 类型数： 7\n",
      "insured_occupation 类型数： 14\n",
      "insured_hobbies 类型数： 20\n",
      "insured_relationship 类型数： 6\n",
      "incident_type 类型数： 4\n",
      "collision_type 类型数： 4\n",
      "incident_severity 类型数： 4\n",
      "authorities_contacted 类型数： 5\n",
      "incident_city 类型数： 7\n",
      "property_damage 类型数： 3\n",
      "police_report_available 类型数： 3\n",
      "auto_make 类型数： 14\n",
      "auto_model 类型数： 39\n"
     ]
    }
   ],
   "source": [
    "cate_features = ['policy_state', 'insured_sex', 'insured_education_level', 'insured_occupation', 'insured_hobbies', 'insured_relationship', \\\n",
    "                 'incident_type', 'collision_type', 'incident_severity', 'authorities_contacted','incident_city','property_damage', \\\n",
    "                'police_report_available','auto_make','auto_model']\n",
    "for f in cate_features:\n",
    "    print(f, '类型数：', data[f].nunique())"
   ]
  },
  {
   "cell_type": "markdown",
   "id": "c8ad027a",
   "metadata": {},
   "source": [
    "### 对低维category数据进行one hot encode，方便进行分析"
   ]
  },
  {
   "cell_type": "code",
   "execution_count": 180,
   "id": "d9ab3ca9",
   "metadata": {
    "scrolled": false
   },
   "outputs": [
    {
     "data": {
      "text/html": [
       "<div>\n",
       "<style scoped>\n",
       "    .dataframe tbody tr th:only-of-type {\n",
       "        vertical-align: middle;\n",
       "    }\n",
       "\n",
       "    .dataframe tbody tr th {\n",
       "        vertical-align: top;\n",
       "    }\n",
       "\n",
       "    .dataframe thead th {\n",
       "        text-align: right;\n",
       "    }\n",
       "</style>\n",
       "<table border=\"1\" class=\"dataframe\">\n",
       "  <thead>\n",
       "    <tr style=\"text-align: right;\">\n",
       "      <th></th>\n",
       "      <th>policy_id</th>\n",
       "      <th>age</th>\n",
       "      <th>customer_months</th>\n",
       "      <th>policy_bind_date</th>\n",
       "      <th>policy_csl</th>\n",
       "      <th>policy_deductable</th>\n",
       "      <th>policy_annual_premium</th>\n",
       "      <th>umbrella_limit</th>\n",
       "      <th>insured_zip</th>\n",
       "      <th>capital-gains</th>\n",
       "      <th>...</th>\n",
       "      <th>auto_model_Pathfinder</th>\n",
       "      <th>auto_model_RAM</th>\n",
       "      <th>auto_model_RSX</th>\n",
       "      <th>auto_model_Silverado</th>\n",
       "      <th>auto_model_TL</th>\n",
       "      <th>auto_model_Tahoe</th>\n",
       "      <th>auto_model_Ultima</th>\n",
       "      <th>auto_model_Wrangler</th>\n",
       "      <th>auto_model_X5</th>\n",
       "      <th>auto_model_X6</th>\n",
       "    </tr>\n",
       "  </thead>\n",
       "  <tbody>\n",
       "    <tr>\n",
       "      <th>0</th>\n",
       "      <td>122576</td>\n",
       "      <td>37</td>\n",
       "      <td>189</td>\n",
       "      <td>2013-08-21</td>\n",
       "      <td>500/1000</td>\n",
       "      <td>1000</td>\n",
       "      <td>1465.71</td>\n",
       "      <td>5000000</td>\n",
       "      <td>455456</td>\n",
       "      <td>62203</td>\n",
       "      <td>...</td>\n",
       "      <td>0</td>\n",
       "      <td>0</td>\n",
       "      <td>0</td>\n",
       "      <td>0</td>\n",
       "      <td>0</td>\n",
       "      <td>0</td>\n",
       "      <td>0</td>\n",
       "      <td>0</td>\n",
       "      <td>0</td>\n",
       "      <td>0</td>\n",
       "    </tr>\n",
       "    <tr>\n",
       "      <th>1</th>\n",
       "      <td>937713</td>\n",
       "      <td>44</td>\n",
       "      <td>234</td>\n",
       "      <td>1998-01-04</td>\n",
       "      <td>250/500</td>\n",
       "      <td>500</td>\n",
       "      <td>821.24</td>\n",
       "      <td>0</td>\n",
       "      <td>591805</td>\n",
       "      <td>31606</td>\n",
       "      <td>...</td>\n",
       "      <td>0</td>\n",
       "      <td>0</td>\n",
       "      <td>0</td>\n",
       "      <td>0</td>\n",
       "      <td>0</td>\n",
       "      <td>0</td>\n",
       "      <td>0</td>\n",
       "      <td>0</td>\n",
       "      <td>0</td>\n",
       "      <td>0</td>\n",
       "    </tr>\n",
       "    <tr>\n",
       "      <th>2</th>\n",
       "      <td>680237</td>\n",
       "      <td>33</td>\n",
       "      <td>23</td>\n",
       "      <td>1996-02-06</td>\n",
       "      <td>500/1000</td>\n",
       "      <td>1000</td>\n",
       "      <td>1844.00</td>\n",
       "      <td>0</td>\n",
       "      <td>442490</td>\n",
       "      <td>0</td>\n",
       "      <td>...</td>\n",
       "      <td>0</td>\n",
       "      <td>0</td>\n",
       "      <td>0</td>\n",
       "      <td>0</td>\n",
       "      <td>0</td>\n",
       "      <td>0</td>\n",
       "      <td>0</td>\n",
       "      <td>1</td>\n",
       "      <td>0</td>\n",
       "      <td>0</td>\n",
       "    </tr>\n",
       "    <tr>\n",
       "      <th>3</th>\n",
       "      <td>513080</td>\n",
       "      <td>42</td>\n",
       "      <td>210</td>\n",
       "      <td>2008-11-14</td>\n",
       "      <td>500/1000</td>\n",
       "      <td>500</td>\n",
       "      <td>1867.29</td>\n",
       "      <td>0</td>\n",
       "      <td>439408</td>\n",
       "      <td>0</td>\n",
       "      <td>...</td>\n",
       "      <td>0</td>\n",
       "      <td>0</td>\n",
       "      <td>0</td>\n",
       "      <td>0</td>\n",
       "      <td>0</td>\n",
       "      <td>0</td>\n",
       "      <td>0</td>\n",
       "      <td>0</td>\n",
       "      <td>0</td>\n",
       "      <td>0</td>\n",
       "    </tr>\n",
       "    <tr>\n",
       "      <th>4</th>\n",
       "      <td>192875</td>\n",
       "      <td>29</td>\n",
       "      <td>81</td>\n",
       "      <td>2002-01-08</td>\n",
       "      <td>100/300</td>\n",
       "      <td>1000</td>\n",
       "      <td>816.25</td>\n",
       "      <td>0</td>\n",
       "      <td>640575</td>\n",
       "      <td>75296</td>\n",
       "      <td>...</td>\n",
       "      <td>0</td>\n",
       "      <td>0</td>\n",
       "      <td>0</td>\n",
       "      <td>0</td>\n",
       "      <td>0</td>\n",
       "      <td>0</td>\n",
       "      <td>0</td>\n",
       "      <td>0</td>\n",
       "      <td>0</td>\n",
       "      <td>0</td>\n",
       "    </tr>\n",
       "  </tbody>\n",
       "</table>\n",
       "<p>5 rows × 143 columns</p>\n",
       "</div>"
      ],
      "text/plain": [
       "   policy_id  age  customer_months policy_bind_date policy_csl  \\\n",
       "0     122576   37              189       2013-08-21   500/1000   \n",
       "1     937713   44              234       1998-01-04    250/500   \n",
       "2     680237   33               23       1996-02-06   500/1000   \n",
       "3     513080   42              210       2008-11-14   500/1000   \n",
       "4     192875   29               81       2002-01-08    100/300   \n",
       "\n",
       "   policy_deductable  policy_annual_premium  umbrella_limit  insured_zip  \\\n",
       "0               1000                1465.71         5000000       455456   \n",
       "1                500                 821.24               0       591805   \n",
       "2               1000                1844.00               0       442490   \n",
       "3                500                1867.29               0       439408   \n",
       "4               1000                 816.25               0       640575   \n",
       "\n",
       "   capital-gains  ...  auto_model_Pathfinder auto_model_RAM auto_model_RSX  \\\n",
       "0          62203  ...                      0              0              0   \n",
       "1          31606  ...                      0              0              0   \n",
       "2              0  ...                      0              0              0   \n",
       "3              0  ...                      0              0              0   \n",
       "4          75296  ...                      0              0              0   \n",
       "\n",
       "   auto_model_Silverado  auto_model_TL  auto_model_Tahoe  auto_model_Ultima  \\\n",
       "0                     0              0                 0                  0   \n",
       "1                     0              0                 0                  0   \n",
       "2                     0              0                 0                  0   \n",
       "3                     0              0                 0                  0   \n",
       "4                     0              0                 0                  0   \n",
       "\n",
       "   auto_model_Wrangler  auto_model_X5  auto_model_X6  \n",
       "0                    0              0              0  \n",
       "1                    0              0              0  \n",
       "2                    1              0              0  \n",
       "3                    0              0              0  \n",
       "4                    0              0              0  \n",
       "\n",
       "[5 rows x 143 columns]"
      ]
     },
     "execution_count": 180,
     "metadata": {},
     "output_type": "execute_result"
    }
   ],
   "source": [
    "data=pd.get_dummies(data, columns=['policy_state', 'insured_sex', 'insured_education_level', 'insured_occupation', 'insured_hobbies', 'insured_relationship', \\\n",
    "                 'incident_type', 'collision_type', 'incident_severity', 'authorities_contacted','incident_city','property_damage', \\\n",
    "                'police_report_available','auto_make','auto_model'], drop_first=True)\n",
    "data.head()"
   ]
  },
  {
   "cell_type": "markdown",
   "id": "5441f4ed",
   "metadata": {},
   "source": [
    "### incident_state为s+数字，去掉前面的s"
   ]
  },
  {
   "cell_type": "code",
   "execution_count": 181,
   "id": "e4e4d4de",
   "metadata": {
    "scrolled": true
   },
   "outputs": [],
   "source": [
    "data['incident_state'] = data['incident_state'].str[1:]\n",
    "data['incident_state'] = data['incident_state'].astype(int)"
   ]
  },
  {
   "cell_type": "code",
   "execution_count": 182,
   "id": "23e7fa83",
   "metadata": {
    "scrolled": true
   },
   "outputs": [
    {
     "data": {
      "text/plain": [
       "0      5\n",
       "1      5\n",
       "2      3\n",
       "3      3\n",
       "4      2\n",
       "      ..\n",
       "995    3\n",
       "996    3\n",
       "997    1\n",
       "998    4\n",
       "999    7\n",
       "Name: incident_state, Length: 1000, dtype: int32"
      ]
     },
     "execution_count": 182,
     "metadata": {},
     "output_type": "execute_result"
    }
   ],
   "source": [
    "data['incident_state']"
   ]
  },
  {
   "cell_type": "markdown",
   "id": "c34b2688",
   "metadata": {},
   "source": [
    "### 对日期数据分开年月日三个变量统计，更加符合现实情况"
   ]
  },
  {
   "cell_type": "code",
   "execution_count": 183,
   "id": "ea0b82a2",
   "metadata": {},
   "outputs": [
    {
     "data": {
      "text/plain": [
       "0      2013\n",
       "1      1998\n",
       "2      1996\n",
       "3      2008\n",
       "4      2002\n",
       "       ... \n",
       "995    1999\n",
       "996    2009\n",
       "997    1999\n",
       "998    2010\n",
       "999    1990\n",
       "Name: policy_bind_date, Length: 1000, dtype: int64"
      ]
     },
     "execution_count": 183,
     "metadata": {},
     "output_type": "execute_result"
    }
   ],
   "source": [
    "data['policy_bind_date'] = data['policy_bind_date'].apply(lambda s: int(s[0:4]))\n",
    "data['policy_bind_date']"
   ]
  },
  {
   "cell_type": "code",
   "execution_count": 184,
   "id": "8fbb2cc8",
   "metadata": {},
   "outputs": [
    {
     "data": {
      "text/plain": [
       "0      2014\n",
       "1      2015\n",
       "2      2015\n",
       "3      2015\n",
       "4      2015\n",
       "       ... \n",
       "995    2015\n",
       "996    2015\n",
       "997    2014\n",
       "998    2015\n",
       "999    2015\n",
       "Name: incident_year, Length: 1000, dtype: int64"
      ]
     },
     "execution_count": 184,
     "metadata": {},
     "output_type": "execute_result"
    }
   ],
   "source": [
    "data['incident_year'] = data['incident_date'].apply(lambda s: int(s[0:4]))\n",
    "data['incident_year']"
   ]
  },
  {
   "cell_type": "code",
   "execution_count": 185,
   "id": "b9f86b5a",
   "metadata": {},
   "outputs": [
    {
     "data": {
      "text/plain": [
       "0      12\n",
       "1       2\n",
       "2       1\n",
       "3       2\n",
       "4       2\n",
       "       ..\n",
       "995     1\n",
       "996     2\n",
       "997    12\n",
       "998     1\n",
       "999     1\n",
       "Name: incident_month, Length: 1000, dtype: int64"
      ]
     },
     "execution_count": 185,
     "metadata": {},
     "output_type": "execute_result"
    }
   ],
   "source": [
    "data['incident_month'] = data['incident_date'].apply(lambda s: int(s[5:7]))\n",
    "data['incident_month']"
   ]
  },
  {
   "cell_type": "code",
   "execution_count": 186,
   "id": "922011b0",
   "metadata": {
    "scrolled": true
   },
   "outputs": [
    {
     "data": {
      "text/plain": [
       "0      22\n",
       "1      18\n",
       "2      18\n",
       "3       2\n",
       "4       9\n",
       "       ..\n",
       "995    14\n",
       "996     9\n",
       "997    21\n",
       "998    27\n",
       "999    29\n",
       "Name: incident_date, Length: 1000, dtype: int64"
      ]
     },
     "execution_count": 186,
     "metadata": {},
     "output_type": "execute_result"
    }
   ],
   "source": [
    "data['incident_date'] = data['incident_date'].apply(lambda s: int(s[8:]))\n",
    "data['incident_date']"
   ]
  },
  {
   "cell_type": "markdown",
   "id": "d70d1a34",
   "metadata": {},
   "source": [
    "### 对保险额数据进行处理"
   ]
  },
  {
   "cell_type": "code",
   "execution_count": 187,
   "id": "3be673f0",
   "metadata": {},
   "outputs": [],
   "source": [
    "data['policy_csl'] = data['policy_csl'].apply(lambda s: int(s[0:3]))"
   ]
  },
  {
   "cell_type": "code",
   "execution_count": 188,
   "id": "df95a029",
   "metadata": {
    "scrolled": true
   },
   "outputs": [
    {
     "data": {
      "text/html": [
       "<div>\n",
       "<style scoped>\n",
       "    .dataframe tbody tr th:only-of-type {\n",
       "        vertical-align: middle;\n",
       "    }\n",
       "\n",
       "    .dataframe tbody tr th {\n",
       "        vertical-align: top;\n",
       "    }\n",
       "\n",
       "    .dataframe thead th {\n",
       "        text-align: right;\n",
       "    }\n",
       "</style>\n",
       "<table border=\"1\" class=\"dataframe\">\n",
       "  <thead>\n",
       "    <tr style=\"text-align: right;\">\n",
       "      <th></th>\n",
       "      <th>policy_id</th>\n",
       "      <th>age</th>\n",
       "      <th>customer_months</th>\n",
       "      <th>policy_bind_date</th>\n",
       "      <th>policy_csl</th>\n",
       "      <th>policy_deductable</th>\n",
       "      <th>policy_annual_premium</th>\n",
       "      <th>umbrella_limit</th>\n",
       "      <th>insured_zip</th>\n",
       "      <th>capital-gains</th>\n",
       "      <th>...</th>\n",
       "      <th>auto_model_RSX</th>\n",
       "      <th>auto_model_Silverado</th>\n",
       "      <th>auto_model_TL</th>\n",
       "      <th>auto_model_Tahoe</th>\n",
       "      <th>auto_model_Ultima</th>\n",
       "      <th>auto_model_Wrangler</th>\n",
       "      <th>auto_model_X5</th>\n",
       "      <th>auto_model_X6</th>\n",
       "      <th>incident_year</th>\n",
       "      <th>incident_month</th>\n",
       "    </tr>\n",
       "  </thead>\n",
       "  <tbody>\n",
       "    <tr>\n",
       "      <th>0</th>\n",
       "      <td>122576</td>\n",
       "      <td>37</td>\n",
       "      <td>189</td>\n",
       "      <td>2013</td>\n",
       "      <td>500</td>\n",
       "      <td>1000</td>\n",
       "      <td>1465.71</td>\n",
       "      <td>5000000</td>\n",
       "      <td>455456</td>\n",
       "      <td>62203</td>\n",
       "      <td>...</td>\n",
       "      <td>0</td>\n",
       "      <td>0</td>\n",
       "      <td>0</td>\n",
       "      <td>0</td>\n",
       "      <td>0</td>\n",
       "      <td>0</td>\n",
       "      <td>0</td>\n",
       "      <td>0</td>\n",
       "      <td>2014</td>\n",
       "      <td>12</td>\n",
       "    </tr>\n",
       "    <tr>\n",
       "      <th>1</th>\n",
       "      <td>937713</td>\n",
       "      <td>44</td>\n",
       "      <td>234</td>\n",
       "      <td>1998</td>\n",
       "      <td>250</td>\n",
       "      <td>500</td>\n",
       "      <td>821.24</td>\n",
       "      <td>0</td>\n",
       "      <td>591805</td>\n",
       "      <td>31606</td>\n",
       "      <td>...</td>\n",
       "      <td>0</td>\n",
       "      <td>0</td>\n",
       "      <td>0</td>\n",
       "      <td>0</td>\n",
       "      <td>0</td>\n",
       "      <td>0</td>\n",
       "      <td>0</td>\n",
       "      <td>0</td>\n",
       "      <td>2015</td>\n",
       "      <td>2</td>\n",
       "    </tr>\n",
       "    <tr>\n",
       "      <th>2</th>\n",
       "      <td>680237</td>\n",
       "      <td>33</td>\n",
       "      <td>23</td>\n",
       "      <td>1996</td>\n",
       "      <td>500</td>\n",
       "      <td>1000</td>\n",
       "      <td>1844.00</td>\n",
       "      <td>0</td>\n",
       "      <td>442490</td>\n",
       "      <td>0</td>\n",
       "      <td>...</td>\n",
       "      <td>0</td>\n",
       "      <td>0</td>\n",
       "      <td>0</td>\n",
       "      <td>0</td>\n",
       "      <td>0</td>\n",
       "      <td>1</td>\n",
       "      <td>0</td>\n",
       "      <td>0</td>\n",
       "      <td>2015</td>\n",
       "      <td>1</td>\n",
       "    </tr>\n",
       "    <tr>\n",
       "      <th>3</th>\n",
       "      <td>513080</td>\n",
       "      <td>42</td>\n",
       "      <td>210</td>\n",
       "      <td>2008</td>\n",
       "      <td>500</td>\n",
       "      <td>500</td>\n",
       "      <td>1867.29</td>\n",
       "      <td>0</td>\n",
       "      <td>439408</td>\n",
       "      <td>0</td>\n",
       "      <td>...</td>\n",
       "      <td>0</td>\n",
       "      <td>0</td>\n",
       "      <td>0</td>\n",
       "      <td>0</td>\n",
       "      <td>0</td>\n",
       "      <td>0</td>\n",
       "      <td>0</td>\n",
       "      <td>0</td>\n",
       "      <td>2015</td>\n",
       "      <td>2</td>\n",
       "    </tr>\n",
       "    <tr>\n",
       "      <th>4</th>\n",
       "      <td>192875</td>\n",
       "      <td>29</td>\n",
       "      <td>81</td>\n",
       "      <td>2002</td>\n",
       "      <td>100</td>\n",
       "      <td>1000</td>\n",
       "      <td>816.25</td>\n",
       "      <td>0</td>\n",
       "      <td>640575</td>\n",
       "      <td>75296</td>\n",
       "      <td>...</td>\n",
       "      <td>0</td>\n",
       "      <td>0</td>\n",
       "      <td>0</td>\n",
       "      <td>0</td>\n",
       "      <td>0</td>\n",
       "      <td>0</td>\n",
       "      <td>0</td>\n",
       "      <td>0</td>\n",
       "      <td>2015</td>\n",
       "      <td>2</td>\n",
       "    </tr>\n",
       "  </tbody>\n",
       "</table>\n",
       "<p>5 rows × 145 columns</p>\n",
       "</div>"
      ],
      "text/plain": [
       "   policy_id  age  customer_months  policy_bind_date  policy_csl  \\\n",
       "0     122576   37              189              2013         500   \n",
       "1     937713   44              234              1998         250   \n",
       "2     680237   33               23              1996         500   \n",
       "3     513080   42              210              2008         500   \n",
       "4     192875   29               81              2002         100   \n",
       "\n",
       "   policy_deductable  policy_annual_premium  umbrella_limit  insured_zip  \\\n",
       "0               1000                1465.71         5000000       455456   \n",
       "1                500                 821.24               0       591805   \n",
       "2               1000                1844.00               0       442490   \n",
       "3                500                1867.29               0       439408   \n",
       "4               1000                 816.25               0       640575   \n",
       "\n",
       "   capital-gains  ...  auto_model_RSX  auto_model_Silverado  auto_model_TL  \\\n",
       "0          62203  ...               0                     0              0   \n",
       "1          31606  ...               0                     0              0   \n",
       "2              0  ...               0                     0              0   \n",
       "3              0  ...               0                     0              0   \n",
       "4          75296  ...               0                     0              0   \n",
       "\n",
       "   auto_model_Tahoe  auto_model_Ultima  auto_model_Wrangler  auto_model_X5  \\\n",
       "0                 0                  0                    0              0   \n",
       "1                 0                  0                    0              0   \n",
       "2                 0                  0                    1              0   \n",
       "3                 0                  0                    0              0   \n",
       "4                 0                  0                    0              0   \n",
       "\n",
       "   auto_model_X6  incident_year  incident_month  \n",
       "0              0           2014              12  \n",
       "1              0           2015               2  \n",
       "2              0           2015               1  \n",
       "3              0           2015               2  \n",
       "4              0           2015               2  \n",
       "\n",
       "[5 rows x 145 columns]"
      ]
     },
     "execution_count": 188,
     "metadata": {},
     "output_type": "execute_result"
    }
   ],
   "source": [
    "data.head()"
   ]
  },
  {
   "cell_type": "markdown",
   "id": "a7c98bb9",
   "metadata": {},
   "source": [
    "### policy_id、issueDate、fraud不入模"
   ]
  },
  {
   "cell_type": "code",
   "execution_count": 189,
   "id": "daec1347",
   "metadata": {},
   "outputs": [],
   "source": [
    "features = [f for f in data.columns if f not in ['policy_id','issueDate','fraud']]\n",
    "\n",
    "train = data[data.fraud.notnull()].reset_index(drop=True)\n",
    "test = data[data.fraud.isnull()].reset_index(drop=True)\n",
    "\n",
    "x_train = train[features]\n",
    "x_test = test[features]\n",
    "\n",
    "y_train = train['fraud']"
   ]
  },
  {
   "cell_type": "markdown",
   "id": "3a31682e",
   "metadata": {},
   "source": [
    "## 简单建模"
   ]
  },
  {
   "cell_type": "markdown",
   "id": "1bbe5aee",
   "metadata": {},
   "source": [
    "### 分别调用三个模型进行训练（调参见下一节）"
   ]
  },
  {
   "cell_type": "code",
   "execution_count": 190,
   "id": "9773292e",
   "metadata": {
    "scrolled": true
   },
   "outputs": [
    {
     "name": "stdout",
     "output_type": "stream",
     "text": [
      "************************************ 1 ************************************\n",
      "[LightGBM] [Warning] num_threads is set with nthread=28, will be overridden by n_jobs=24. Current value: num_threads=24\n",
      "[LightGBM] [Warning] Unknown parameter: silent\n",
      "Training until validation scores don't improve for 200 rounds\n",
      "[200]\ttraining's auc: 0.990727\tvalid_1's auc: 0.838745\n",
      "Early stopping, best iteration is:\n",
      "[66]\ttraining's auc: 0.943942\tvalid_1's auc: 0.852092\n",
      "[0.8520923520923522]\n",
      "************************************ 2 ************************************\n",
      "[LightGBM] [Warning] num_threads is set with nthread=28, will be overridden by n_jobs=24. Current value: num_threads=24\n",
      "[LightGBM] [Warning] Unknown parameter: silent\n",
      "Training until validation scores don't improve for 200 rounds\n",
      "[200]\ttraining's auc: 0.991182\tvalid_1's auc: 0.812071\n",
      "Early stopping, best iteration is:\n",
      "[29]\ttraining's auc: 0.895843\tvalid_1's auc: 0.862826\n",
      "[0.8520923520923522, 0.8628257887517147]\n",
      "************************************ 3 ************************************\n",
      "[LightGBM] [Warning] num_threads is set with nthread=28, will be overridden by n_jobs=24. Current value: num_threads=24\n",
      "[LightGBM] [Warning] Unknown parameter: silent\n",
      "Training until validation scores don't improve for 200 rounds\n",
      "[200]\ttraining's auc: 0.990505\tvalid_1's auc: 0.763603\n",
      "Early stopping, best iteration is:\n",
      "[38]\ttraining's auc: 0.927079\tvalid_1's auc: 0.793199\n",
      "[0.8520923520923522, 0.8628257887517147, 0.7931985294117647]\n",
      "************************************ 4 ************************************\n",
      "[LightGBM] [Warning] num_threads is set with nthread=28, will be overridden by n_jobs=24. Current value: num_threads=24\n",
      "[LightGBM] [Warning] Unknown parameter: silent\n",
      "Training until validation scores don't improve for 200 rounds\n",
      "[200]\ttraining's auc: 0.988562\tvalid_1's auc: 0.829749\n",
      "Early stopping, best iteration is:\n",
      "[27]\ttraining's auc: 0.888468\tvalid_1's auc: 0.87052\n",
      "[0.8520923520923522, 0.8628257887517147, 0.7931985294117647, 0.8705197132616488]\n",
      "************************************ 5 ************************************\n",
      "[LightGBM] [Warning] num_threads is set with nthread=28, will be overridden by n_jobs=24. Current value: num_threads=24\n",
      "[LightGBM] [Warning] Unknown parameter: silent\n",
      "Training until validation scores don't improve for 200 rounds\n",
      "[200]\ttraining's auc: 0.988614\tvalid_1's auc: 0.860175\n",
      "[400]\ttraining's auc: 0.999849\tvalid_1's auc: 0.857262\n",
      "[600]\ttraining's auc: 1\tvalid_1's auc: 0.855181\n",
      "Early stopping, best iteration is:\n",
      "[466]\ttraining's auc: 0.99997\tvalid_1's auc: 0.871827\n",
      "[0.8520923520923522, 0.8628257887517147, 0.7931985294117647, 0.8705197132616488, 0.8718268830628382]\n",
      "************************************ 6 ************************************\n",
      "[LightGBM] [Warning] num_threads is set with nthread=28, will be overridden by n_jobs=24. Current value: num_threads=24\n",
      "[LightGBM] [Warning] Unknown parameter: silent\n",
      "Training until validation scores don't improve for 200 rounds\n",
      "[200]\ttraining's auc: 0.990878\tvalid_1's auc: 0.866825\n",
      "Early stopping, best iteration is:\n",
      "[63]\ttraining's auc: 0.931485\tvalid_1's auc: 0.888228\n",
      "[0.8520923520923522, 0.8628257887517147, 0.7931985294117647, 0.8705197132616488, 0.8718268830628382, 0.8882282996432819]\n",
      "lgb_scotrainre_list: [0.8520923520923522, 0.8628257887517147, 0.7931985294117647, 0.8705197132616488, 0.8718268830628382, 0.8882282996432819]\n",
      "lgb_score_mean: 0.8564485943706001\n",
      "lgb_score_std: 0.030289310516595818\n"
     ]
    }
   ],
   "source": [
    "lgb_train, lgb_test = lgb_model(x_train, y_train, x_test)"
   ]
  },
  {
   "cell_type": "code",
   "execution_count": 191,
   "id": "b2893870",
   "metadata": {
    "scrolled": true
   },
   "outputs": [
    {
     "name": "stdout",
     "output_type": "stream",
     "text": [
      "************************************ 1 ************************************\n",
      "[12:24:16] WARNING: C:/Users/administrator/workspace/xgboost-win64_release_1.6.0/src/learner.cc:627: \n",
      "Parameters: { \"min_child_samples\", \"num_leaves\", \"silent\" } might not be used.\n",
      "\n",
      "  This could be a false alarm, with some parameters getting used by language bindings but\n",
      "  then being mistakenly passed down to XGBoost core, or some parameter actually being used\n",
      "  but getting flagged wrongly here. Please open an issue if you find any such cases.\n",
      "\n",
      "\n",
      "[0]\ttrain-auc:0.66194\teval-auc:0.66595\n",
      "[200]\ttrain-auc:0.98489\teval-auc:0.84235\n",
      "[235]\ttrain-auc:0.98824\teval-auc:0.84127\n",
      "[0.8571428571428571]\n",
      "************************************ 2 ************************************\n",
      "[12:24:17] WARNING: C:/Users/administrator/workspace/xgboost-win64_release_1.6.0/src/learner.cc:627: \n",
      "Parameters: { \"min_child_samples\", \"num_leaves\", \"silent\" } might not be used.\n",
      "\n",
      "  This could be a false alarm, with some parameters getting used by language bindings but\n",
      "  then being mistakenly passed down to XGBoost core, or some parameter actually being used\n",
      "  but getting flagged wrongly here. Please open an issue if you find any such cases.\n",
      "\n",
      "\n",
      "[0]\ttrain-auc:0.89207\teval-auc:0.82853\n",
      "[200]\ttrain-auc:0.98773\teval-auc:0.84568\n",
      "[267]\ttrain-auc:0.99142\teval-auc:0.84019\n",
      "[0.8571428571428571, 0.8648834019204389]\n",
      "************************************ 3 ************************************\n",
      "[12:24:18] WARNING: C:/Users/administrator/workspace/xgboost-win64_release_1.6.0/src/learner.cc:627: \n",
      "Parameters: { \"min_child_samples\", \"num_leaves\", \"silent\" } might not be used.\n",
      "\n",
      "  This could be a false alarm, with some parameters getting used by language bindings but\n",
      "  then being mistakenly passed down to XGBoost core, or some parameter actually being used\n",
      "  but getting flagged wrongly here. Please open an issue if you find any such cases.\n",
      "\n",
      "\n",
      "[0]\ttrain-auc:0.88503\teval-auc:0.77353\n",
      "[200]\ttrain-auc:0.98709\teval-auc:0.79191\n",
      "[236]\ttrain-auc:0.98930\teval-auc:0.78897\n",
      "[0.8571428571428571, 0.8648834019204389, 0.8290441176470589]\n",
      "************************************ 4 ************************************\n",
      "[12:24:19] WARNING: C:/Users/administrator/workspace/xgboost-win64_release_1.6.0/src/learner.cc:627: \n",
      "Parameters: { \"min_child_samples\", \"num_leaves\", \"silent\" } might not be used.\n",
      "\n",
      "  This could be a false alarm, with some parameters getting used by language bindings but\n",
      "  then being mistakenly passed down to XGBoost core, or some parameter actually being used\n",
      "  but getting flagged wrongly here. Please open an issue if you find any such cases.\n",
      "\n",
      "\n",
      "[0]\ttrain-auc:0.88487\teval-auc:0.86537\n",
      "[200]\ttrain-auc:0.98550\teval-auc:0.86156\n",
      "[258]\ttrain-auc:0.98974\teval-auc:0.85842\n",
      "[0.8571428571428571, 0.8648834019204389, 0.8290441176470589, 0.867831541218638]\n",
      "************************************ 5 ************************************\n",
      "[12:24:20] WARNING: C:/Users/administrator/workspace/xgboost-win64_release_1.6.0/src/learner.cc:627: \n",
      "Parameters: { \"min_child_samples\", \"num_leaves\", \"silent\" } might not be used.\n",
      "\n",
      "  This could be a false alarm, with some parameters getting used by language bindings but\n",
      "  then being mistakenly passed down to XGBoost core, or some parameter actually being used\n",
      "  but getting flagged wrongly here. Please open an issue if you find any such cases.\n",
      "\n",
      "\n",
      "[0]\ttrain-auc:0.68513\teval-auc:0.62984\n",
      "[200]\ttrain-auc:0.98448\teval-auc:0.85268\n",
      "[228]\ttrain-auc:0.98710\teval-auc:0.85268\n",
      "[0.8571428571428571, 0.8648834019204389, 0.8290441176470589, 0.867831541218638, 0.8730753225135246]\n",
      "************************************ 6 ************************************\n",
      "[12:24:21] WARNING: C:/Users/administrator/workspace/xgboost-win64_release_1.6.0/src/learner.cc:627: \n",
      "Parameters: { \"min_child_samples\", \"num_leaves\", \"silent\" } might not be used.\n",
      "\n",
      "  This could be a false alarm, with some parameters getting used by language bindings but\n",
      "  then being mistakenly passed down to XGBoost core, or some parameter actually being used\n",
      "  but getting flagged wrongly here. Please open an issue if you find any such cases.\n",
      "\n",
      "\n",
      "[0]\ttrain-auc:0.69597\teval-auc:0.58977\n",
      "[200]\ttrain-auc:0.98413\teval-auc:0.86564\n",
      "[218]\ttrain-auc:0.98600\teval-auc:0.86722\n",
      "[0.8571428571428571, 0.8648834019204389, 0.8290441176470589, 0.867831541218638, 0.8730753225135246, 0.8890210067380103]\n",
      "xgb_scotrainre_list: [0.8571428571428571, 0.8648834019204389, 0.8290441176470589, 0.867831541218638, 0.8730753225135246, 0.8890210067380103]\n",
      "xgb_score_mean: 0.8634997078634213\n",
      "xgb_score_std: 0.018217691629638454\n"
     ]
    }
   ],
   "source": [
    "xgb_train, xgb_test = xgb_model(x_train, y_train, x_test)"
   ]
  },
  {
   "cell_type": "code",
   "execution_count": 192,
   "id": "6fa17105",
   "metadata": {
    "scrolled": false
   },
   "outputs": [
    {
     "name": "stdout",
     "output_type": "stream",
     "text": [
      "************************************ 1 ************************************\n",
      "0:\tlearn: 0.4302908\ttest: 0.4469042\tbest: 0.4469042 (0)\ttotal: 7.04ms\tremaining: 2m 20s\n",
      "Stopped by overfitting detector  (50 iterations wait)\n",
      "\n",
      "bestTest = 0.3644039894\n",
      "bestIteration = 227\n",
      "\n",
      "Shrink model to first 228 iterations.\n",
      "[0.8625541125541125]\n",
      "************************************ 2 ************************************\n",
      "0:\tlearn: 0.4272191\ttest: 0.4611853\tbest: 0.4611853 (0)\ttotal: 1.39ms\tremaining: 27.8s\n",
      "Stopped by overfitting detector  (50 iterations wait)\n",
      "\n",
      "bestTest = 0.3713179729\n",
      "bestIteration = 344\n",
      "\n",
      "Shrink model to first 345 iterations.\n",
      "[0.8625541125541125, 0.8545953360768176]\n",
      "************************************ 3 ************************************\n",
      "0:\tlearn: 0.4305578\ttest: 0.4427615\tbest: 0.4427615 (0)\ttotal: 1.33ms\tremaining: 26.6s\n",
      "Stopped by overfitting detector  (50 iterations wait)\n",
      "\n",
      "bestTest = 0.3892175902\n",
      "bestIteration = 132\n",
      "\n",
      "Shrink model to first 133 iterations.\n",
      "[0.8625541125541125, 0.8545953360768176, 0.7827205882352941]\n",
      "************************************ 4 ************************************\n",
      "0:\tlearn: 0.4385200\ttest: 0.4042658\tbest: 0.4042658 (0)\ttotal: 30.4ms\tremaining: 10m 8s\n",
      "Stopped by overfitting detector  (50 iterations wait)\n",
      "\n",
      "bestTest = 0.3376992232\n",
      "bestIteration = 194\n",
      "\n",
      "Shrink model to first 195 iterations.\n",
      "[0.8625541125541125, 0.8545953360768176, 0.7827205882352941, 0.8669354838709676]\n",
      "************************************ 5 ************************************\n",
      "0:\tlearn: 0.4386769\ttest: 0.4227254\tbest: 0.4227254 (0)\ttotal: 1.3ms\tremaining: 26.1s\n",
      "Stopped by overfitting detector  (50 iterations wait)\n",
      "\n",
      "bestTest = 0.3376671723\n",
      "bestIteration = 214\n",
      "\n",
      "Shrink model to first 215 iterations.\n",
      "[0.8625541125541125, 0.8545953360768176, 0.7827205882352941, 0.8669354838709676, 0.8784852267998335]\n",
      "************************************ 6 ************************************\n",
      "0:\tlearn: 0.4363429\ttest: 0.4312044\tbest: 0.4312044 (0)\ttotal: 1.33ms\tremaining: 26.7s\n",
      "Stopped by overfitting detector  (50 iterations wait)\n",
      "\n",
      "bestTest = 0.3416604061\n",
      "bestIteration = 227\n",
      "\n",
      "Shrink model to first 228 iterations.\n",
      "[0.8625541125541125, 0.8545953360768176, 0.7827205882352941, 0.8669354838709676, 0.8784852267998335, 0.8866428854538249]\n",
      "cat_scotrainre_list: [0.8625541125541125, 0.8545953360768176, 0.7827205882352941, 0.8669354838709676, 0.8784852267998335, 0.8866428854538249]\n",
      "cat_score_mean: 0.8553222721651417\n",
      "cat_score_std: 0.03409839300037933\n"
     ]
    }
   ],
   "source": [
    "cat_train, cat_test = cat_model(x_train, y_train, x_test)"
   ]
  },
  {
   "cell_type": "markdown",
   "id": "b0a6e761",
   "metadata": {},
   "source": [
    "### 模型融合以及最终结果输出"
   ]
  },
  {
   "cell_type": "code",
   "execution_count": 193,
   "id": "88b10748",
   "metadata": {},
   "outputs": [],
   "source": [
    "rh_test = lgb_test*0.3 + xgb_test*0.4 + cat_test* 0.3"
   ]
  },
  {
   "cell_type": "code",
   "execution_count": 194,
   "id": "3a2232c3",
   "metadata": {},
   "outputs": [],
   "source": [
    "testA['fraud'] = rh_test"
   ]
  },
  {
   "cell_type": "code",
   "execution_count": 195,
   "id": "6d3a9032",
   "metadata": {},
   "outputs": [],
   "source": [
    "testA[['policy_id','fraud']].to_csv('sub.csv', index=False)"
   ]
  },
  {
   "cell_type": "markdown",
   "id": "894cc11c",
   "metadata": {},
   "source": [
    "## 模型调参"
   ]
  },
  {
   "cell_type": "markdown",
   "id": "58ae50d6",
   "metadata": {},
   "source": [
    "### 首先对max_depth和num_leaves进行调节，提高模型拟合程度"
   ]
  },
  {
   "cell_type": "code",
   "execution_count": null,
   "id": "472ac073",
   "metadata": {
    "scrolled": true
   },
   "outputs": [],
   "source": [
    "from sklearn.model_selection import GridSearchCV\n",
    "params_test2={\n",
    "    'max_depth': [6.5,7,8],\n",
    "    'num_leaves':[20,25,30,35]\n",
    "}\n",
    "\n",
    "gsearch2 = GridSearchCV(estimator=model_lgb, param_grid=params_test2, scoring='neg_mean_squared_error', cv=5, verbose=1, n_jobs=4)\n",
    "gsearch2.fit(x_train, y_train)\n",
    "gsearch2.best_params_, gsearch2.best_score_\n"
   ]
  },
  {
   "cell_type": "markdown",
   "id": "9981d7b0",
   "metadata": {},
   "source": [
    "### 反复修改max_depth和num_leaves至基本不发生变化之后，进行降低过拟合，调节min_child_samples和min_child_weight"
   ]
  },
  {
   "cell_type": "code",
   "execution_count": null,
   "id": "4ed0e04c",
   "metadata": {},
   "outputs": [],
   "source": [
    "params_test3={\n",
    "    'min_child_samples': [15, 17.5, 18],\n",
    "    'min_child_weight':[0.001, 0.02]\n",
    "}\n",
    "model_xgb = xgb.XGBRegressor(num_leaves=25,\n",
    "                              learning_rate=0.1, n_estimators=43, max_depth=7, \n",
    "                              metric='rmse', bagging_fraction = 0.8, feature_fraction = 0.8)\n",
    "gsearch3 = GridSearchCV(estimator=model_xgb, param_grid=params_test3, scoring='neg_mean_squared_error', cv=5, verbose=1, n_jobs=4)\n",
    "gsearch3.fit(x_train, y_train)\n",
    "gsearch3.best_params_, gsearch3.best_score_"
   ]
  },
  {
   "cell_type": "markdown",
   "id": "b379ff43",
   "metadata": {},
   "source": [
    "### 继续调节feature_fraction和bagging_fraction，降低过拟合程度"
   ]
  },
  {
   "cell_type": "code",
   "execution_count": null,
   "id": "0c1cdba1",
   "metadata": {},
   "outputs": [],
   "source": [
    "params_test4={\n",
    "    'feature_fraction': [0.75, 0.8, 0.85,0.875,0.9],\n",
    "    'bagging_fraction': [0.85, 0.9, 0.95,0.975,1.0]\n",
    "}\n",
    "model_lgb = lgb.LGBMRegressor(objective='regression',num_leaves=10,\n",
    "                              learning_rate=0.1, n_estimators=43, max_depth=3, \n",
    "                              metric='rmse', bagging_freq = 5,  min_child_samples=19)\n",
    "gsearch4 = GridSearchCV(estimator=model_lgb, param_grid=params_test4, scoring='neg_mean_squared_error', cv=5, verbose=1, n_jobs=4)\n",
    "gsearch4.fit(x_train, y_train)\n",
    "gsearch4.best_params_, gsearch4.best_score_"
   ]
  },
  {
   "cell_type": "markdown",
   "id": "b3154688",
   "metadata": {},
   "source": [
    "### 依次使用上述调参方法对三个模型进行调节"
   ]
  },
  {
   "cell_type": "markdown",
   "id": "dfcb9474",
   "metadata": {},
   "source": [
    "### 将最终参数输入到前面建模步骤，输出最终结果"
   ]
  }
 ],
 "metadata": {
  "kernelspec": {
   "display_name": "Python 3 (ipykernel)",
   "language": "python",
   "name": "python3"
  },
  "language_info": {
   "codemirror_mode": {
    "name": "ipython",
    "version": 3
   },
   "file_extension": ".py",
   "mimetype": "text/x-python",
   "name": "python",
   "nbconvert_exporter": "python",
   "pygments_lexer": "ipython3",
   "version": "3.9.12"
  }
 },
 "nbformat": 4,
 "nbformat_minor": 5
}
